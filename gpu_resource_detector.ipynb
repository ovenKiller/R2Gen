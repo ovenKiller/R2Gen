{
 "cells": [
  {
   "cell_type": "code",
   "execution_count": 8,
   "metadata": {},
   "outputs": [
    {
     "data": {
      "text/plain": [
       "[3, 2]"
      ]
     },
     "execution_count": 8,
     "metadata": {},
     "output_type": "execute_result"
    }
   ],
   "source": [
    "import GPUtil\n",
    "GPUtil.getAvailable(order='memory', limit=3, maxLoad=0.5, maxMemory=0.5)"
   ]
  },
  {
   "cell_type": "code",
   "execution_count": 1,
   "metadata": {},
   "outputs": [
    {
     "name": "stdout",
     "output_type": "stream",
     "text": [
      "GPU ID 0: NVIDIA GeForce RTX 3090\n",
      "  Total memory: 24576.00 MB\n",
      "  Used memory: 23322.00 MB\n",
      "  Free memory: 937.00 MB\n",
      "GPU ID 1: NVIDIA GeForce RTX 3090\n",
      "  Total memory: 24576.00 MB\n",
      "  Used memory: 22988.00 MB\n",
      "  Free memory: 1271.00 MB\n",
      "GPU ID 2: NVIDIA GeForce RTX 3090\n",
      "  Total memory: 24576.00 MB\n",
      "  Used memory: 4554.00 MB\n",
      "  Free memory: 19705.00 MB\n",
      "GPU ID 3: NVIDIA GeForce RTX 3090\n",
      "  Total memory: 24576.00 MB\n",
      "  Used memory: 2731.00 MB\n",
      "  Free memory: 21528.00 MB\n"
     ]
    }
   ],
   "source": [
    "\n",
    "\n",
    "# Get the list of all GPUs\n",
    "gpus = GPUtil.getGPUs()\n",
    "\n",
    "for gpu in gpus:\n",
    "    print(f\"GPU ID {gpu.id}: {gpu.name}\")\n",
    "    print(f\"  Total memory: {gpu.memoryTotal:.2f} MB\")\n",
    "    print(f\"  Used memory: {gpu.memoryUsed:.2f} MB\")\n",
    "    print(f\"  Free memory: {gpu.memoryFree:.2f} MB\")"
   ]
  },
  {
   "cell_type": "code",
   "execution_count": 5,
   "metadata": {},
   "outputs": [
    {
     "ename": "TypeError",
     "evalue": "cannot convert dictionary update sequence element #0 to a sequence",
     "output_type": "error",
     "traceback": [
      "\u001b[0;31m---------------------------------------------------------------------------\u001b[0m",
      "\u001b[0;31mTypeError\u001b[0m                                 Traceback (most recent call last)",
      "\u001b[0;32m<ipython-input-5-eee982ef87ec>\u001b[0m in \u001b[0;36m<module>\u001b[0;34m\u001b[0m\n\u001b[0;32m----> 1\u001b[0;31m \u001b[0mdict\u001b[0m\u001b[0;34m(\u001b[0m\u001b[0mgpus\u001b[0m\u001b[0;34m)\u001b[0m\u001b[0;34m\u001b[0m\u001b[0;34m\u001b[0m\u001b[0m\n\u001b[0m",
      "\u001b[0;31mTypeError\u001b[0m: cannot convert dictionary update sequence element #0 to a sequence"
     ]
    }
   ],
   "source": [
    "dict(gpus)"
   ]
  },
  {
   "cell_type": "code",
   "execution_count": 7,
   "metadata": {},
   "outputs": [
    {
     "name": "stdout",
     "output_type": "stream",
     "text": [
      "1.13.1+cu117\n",
      "11.7\n"
     ]
    }
   ],
   "source": [
    "import torch\n",
    "\n",
    "print(torch.__version__)  # PyTorch version\n",
    "print(torch.version.cuda)  # CUDA version used by PyTorch\n"
   ]
  },
  {
   "cell_type": "code",
   "execution_count": 8,
   "metadata": {},
   "outputs": [],
   "source": [
    "stats = torch.cuda.memory_stats(device=\"cuda:0\")"
   ]
  },
  {
   "cell_type": "code",
   "execution_count": 10,
   "metadata": {},
   "outputs": [
    {
     "name": "stdout",
     "output_type": "stream",
     "text": [
      "Total memory: 23.69 GB\n",
      "Allocated memory: 0.00 GB\n",
      "Cached memory: 0.00 GB\n",
      "Available memory: 23.69 GB\n"
     ]
    }
   ],
   "source": [
    "import torch\n",
    "\n",
    "# Check if CUDA is available\n",
    "if torch.cuda.is_available():\n",
    "    # Get the current device (assuming you're using the first GPU)\n",
    "    device = torch.device('cuda:0')\n",
    "    \n",
    "    # Get total GPU memory (in bytes)\n",
    "    total_memory = torch.cuda.get_device_properties(device).total_memory\n",
    "    \n",
    "    # Get the memory allocated by tensors (in bytes)\n",
    "    allocated_memory = torch.cuda.memory_allocated(device)\n",
    "    \n",
    "    # Get the memory cached by PyTorch (for reuse) (in bytes)\n",
    "    cached_memory = torch.cuda.memory_reserved(device)\n",
    "    \n",
    "    # Available memory is total - (allocated + cached)\n",
    "    available_memory = total_memory - (allocated_memory + cached_memory)\n",
    "    \n",
    "    print(f\"Total memory: {total_memory / (1024 ** 3):.2f} GB\")\n",
    "    print(f\"Allocated memory: {allocated_memory / (1024 ** 3):.2f} GB\")\n",
    "    print(f\"Cached memory: {cached_memory / (1024 ** 3):.2f} GB\")\n",
    "    print(f\"Available memory: {available_memory / (1024 ** 3):.2f} GB\")\n",
    "else:\n",
    "    print(\"CUDA is not available\")\n"
   ]
  }
 ],
 "metadata": {
  "kernelspec": {
   "display_name": "R2Gen",
   "language": "python",
   "name": "r2gen"
  },
  "language_info": {
   "codemirror_mode": {
    "name": "ipython",
    "version": 3
   },
   "file_extension": ".py",
   "mimetype": "text/x-python",
   "name": "python",
   "nbconvert_exporter": "python",
   "pygments_lexer": "ipython3",
   "version": "3.7.16"
  }
 },
 "nbformat": 4,
 "nbformat_minor": 2
}
